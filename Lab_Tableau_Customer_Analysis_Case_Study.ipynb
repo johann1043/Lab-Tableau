{
 "cells": [
  {
   "cell_type": "markdown",
   "id": "47b4bad0-cd50-4ad4-a725-a227d5758cdf",
   "metadata": {},
   "source": [
    "# Lab Tableau"
   ]
  },
  {
   "cell_type": "markdown",
   "id": "6eb93055-f516-4e1e-8115-251f82d06e7c",
   "metadata": {},
   "source": [
    "In this lab you will practice and start getting comfortable with basic plots in Tableau."
   ]
  },
  {
   "cell_type": "markdown",
   "id": "6f9cf416-0865-4554-ae2a-09ad871dd482",
   "metadata": {},
   "source": [
    "1. Plot histograms for the variables \"Income\" and \"Total Claim Amount\". Assess if they resemble a normal distribution."
   ]
  },
  {
   "cell_type": "markdown",
   "id": "04179aef-99f2-4d94-b4fc-d946dbb34053",
   "metadata": {},
   "source": [
    "2. Show a plot of the total number of responses."
   ]
  },
  {
   "cell_type": "markdown",
   "id": "4e5a5352-2981-423c-9bd7-c96eb6c50357",
   "metadata": {},
   "source": [
    "3. Show a plot of the response by the sales channel."
   ]
  },
  {
   "cell_type": "markdown",
   "id": "a3978e06-5783-4623-b0a2-6472674a6dec",
   "metadata": {},
   "source": [
    "4. Show a plot of the response by the total claim amount."
   ]
  },
  {
   "cell_type": "markdown",
   "id": "461bc8b8-20cb-4a90-b4c7-f0c685752621",
   "metadata": {},
   "source": [
    "5. Show a plot of the response by income."
   ]
  },
  {
   "cell_type": "markdown",
   "id": "c4dfe5d1-6fa7-44a3-b578-c1c37bd8f6ad",
   "metadata": {},
   "source": [
    "(Optional) Plot the Correlation Heatmap."
   ]
  },
  {
   "cell_type": "markdown",
   "id": "71a46977-6464-47d6-b022-d901a2d44cb7",
   "metadata": {},
   "source": [
    "(Optional) Plot any interesting findings/insights (minimum three) that describe some interesting facts about your data set"
   ]
  },
  {
   "cell_type": "code",
   "execution_count": null,
   "id": "8dfcde3c-b1a2-4f06-8a4a-a0bca0164133",
   "metadata": {},
   "outputs": [],
   "source": []
  }
 ],
 "metadata": {
  "kernelspec": {
   "display_name": "Python 3 (ipykernel)",
   "language": "python",
   "name": "python3"
  },
  "language_info": {
   "codemirror_mode": {
    "name": "ipython",
    "version": 3
   },
   "file_extension": ".py",
   "mimetype": "text/x-python",
   "name": "python",
   "nbconvert_exporter": "python",
   "pygments_lexer": "ipython3",
   "version": "3.11.5"
  }
 },
 "nbformat": 4,
 "nbformat_minor": 5
}
